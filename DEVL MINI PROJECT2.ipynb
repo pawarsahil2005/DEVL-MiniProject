{
 "cells": [
  {
   "cell_type": "markdown",
   "id": "5f63e705-497c-48be-a102-18864c309482",
   "metadata": {},
   "source": [
    "# &#10031; SWIGGY DATA ANALYSIS - DEVL MINI PROJECT &#10031;"
   ]
  },
  {
   "cell_type": "markdown",
   "id": "b4e8caa8-d6df-4da0-84b7-2c2ae76fadad",
   "metadata": {},
   "source": [
    "##  &#10687; Load Dataset"
   ]
  },
  {
   "cell_type": "code",
   "execution_count": 1,
   "id": "84a9cf46-1e18-4393-8e96-358d22027578",
   "metadata": {},
   "outputs": [
    {
     "ename": "FileNotFoundError",
     "evalue": "[Errno 2] No such file or directory: 'C:\\\\Users\\\\vaibhav\\\\Downloads\\\\swiggy1 (1).csv'",
     "output_type": "error",
     "traceback": [
      "\u001b[1;31m---------------------------------------------------------------------------\u001b[0m",
      "\u001b[1;31mFileNotFoundError\u001b[0m                         Traceback (most recent call last)",
      "Cell \u001b[1;32mIn[1], line 5\u001b[0m\n\u001b[0;32m      2\u001b[0m \u001b[38;5;28;01mimport\u001b[39;00m \u001b[38;5;21;01mpandas\u001b[39;00m \u001b[38;5;28;01mas\u001b[39;00m \u001b[38;5;21;01mpd\u001b[39;00m\n\u001b[0;32m      4\u001b[0m \u001b[38;5;66;03m# df  = pd.read_csv('devl mini swiggy.csv')\u001b[39;00m\n\u001b[1;32m----> 5\u001b[0m df \u001b[38;5;241m=\u001b[39m \u001b[43mpd\u001b[49m\u001b[38;5;241;43m.\u001b[39;49m\u001b[43mread_csv\u001b[49m\u001b[43m(\u001b[49m\u001b[38;5;124;43mr\u001b[39;49m\u001b[38;5;124;43m\"\u001b[39;49m\u001b[38;5;124;43mC:\u001b[39;49m\u001b[38;5;124;43m\\\u001b[39;49m\u001b[38;5;124;43mUsers\u001b[39;49m\u001b[38;5;124;43m\\\u001b[39;49m\u001b[38;5;124;43mvaibhav\u001b[39;49m\u001b[38;5;124;43m\\\u001b[39;49m\u001b[38;5;124;43mDownloads\u001b[39;49m\u001b[38;5;124;43m\\\u001b[39;49m\u001b[38;5;124;43mswiggy1 (1).csv\u001b[39;49m\u001b[38;5;124;43m\"\u001b[39;49m\u001b[43m)\u001b[49m\n\u001b[0;32m      6\u001b[0m df\n",
      "File \u001b[1;32m~\\AppData\\Local\\Programs\\Python\\Python312\\Lib\\site-packages\\pandas\\io\\parsers\\readers.py:1026\u001b[0m, in \u001b[0;36mread_csv\u001b[1;34m(filepath_or_buffer, sep, delimiter, header, names, index_col, usecols, dtype, engine, converters, true_values, false_values, skipinitialspace, skiprows, skipfooter, nrows, na_values, keep_default_na, na_filter, verbose, skip_blank_lines, parse_dates, infer_datetime_format, keep_date_col, date_parser, date_format, dayfirst, cache_dates, iterator, chunksize, compression, thousands, decimal, lineterminator, quotechar, quoting, doublequote, escapechar, comment, encoding, encoding_errors, dialect, on_bad_lines, delim_whitespace, low_memory, memory_map, float_precision, storage_options, dtype_backend)\u001b[0m\n\u001b[0;32m   1013\u001b[0m kwds_defaults \u001b[38;5;241m=\u001b[39m _refine_defaults_read(\n\u001b[0;32m   1014\u001b[0m     dialect,\n\u001b[0;32m   1015\u001b[0m     delimiter,\n\u001b[1;32m   (...)\u001b[0m\n\u001b[0;32m   1022\u001b[0m     dtype_backend\u001b[38;5;241m=\u001b[39mdtype_backend,\n\u001b[0;32m   1023\u001b[0m )\n\u001b[0;32m   1024\u001b[0m kwds\u001b[38;5;241m.\u001b[39mupdate(kwds_defaults)\n\u001b[1;32m-> 1026\u001b[0m \u001b[38;5;28;01mreturn\u001b[39;00m \u001b[43m_read\u001b[49m\u001b[43m(\u001b[49m\u001b[43mfilepath_or_buffer\u001b[49m\u001b[43m,\u001b[49m\u001b[43m \u001b[49m\u001b[43mkwds\u001b[49m\u001b[43m)\u001b[49m\n",
      "File \u001b[1;32m~\\AppData\\Local\\Programs\\Python\\Python312\\Lib\\site-packages\\pandas\\io\\parsers\\readers.py:620\u001b[0m, in \u001b[0;36m_read\u001b[1;34m(filepath_or_buffer, kwds)\u001b[0m\n\u001b[0;32m    617\u001b[0m _validate_names(kwds\u001b[38;5;241m.\u001b[39mget(\u001b[38;5;124m\"\u001b[39m\u001b[38;5;124mnames\u001b[39m\u001b[38;5;124m\"\u001b[39m, \u001b[38;5;28;01mNone\u001b[39;00m))\n\u001b[0;32m    619\u001b[0m \u001b[38;5;66;03m# Create the parser.\u001b[39;00m\n\u001b[1;32m--> 620\u001b[0m parser \u001b[38;5;241m=\u001b[39m \u001b[43mTextFileReader\u001b[49m\u001b[43m(\u001b[49m\u001b[43mfilepath_or_buffer\u001b[49m\u001b[43m,\u001b[49m\u001b[43m \u001b[49m\u001b[38;5;241;43m*\u001b[39;49m\u001b[38;5;241;43m*\u001b[39;49m\u001b[43mkwds\u001b[49m\u001b[43m)\u001b[49m\n\u001b[0;32m    622\u001b[0m \u001b[38;5;28;01mif\u001b[39;00m chunksize \u001b[38;5;129;01mor\u001b[39;00m iterator:\n\u001b[0;32m    623\u001b[0m     \u001b[38;5;28;01mreturn\u001b[39;00m parser\n",
      "File \u001b[1;32m~\\AppData\\Local\\Programs\\Python\\Python312\\Lib\\site-packages\\pandas\\io\\parsers\\readers.py:1620\u001b[0m, in \u001b[0;36mTextFileReader.__init__\u001b[1;34m(self, f, engine, **kwds)\u001b[0m\n\u001b[0;32m   1617\u001b[0m     \u001b[38;5;28mself\u001b[39m\u001b[38;5;241m.\u001b[39moptions[\u001b[38;5;124m\"\u001b[39m\u001b[38;5;124mhas_index_names\u001b[39m\u001b[38;5;124m\"\u001b[39m] \u001b[38;5;241m=\u001b[39m kwds[\u001b[38;5;124m\"\u001b[39m\u001b[38;5;124mhas_index_names\u001b[39m\u001b[38;5;124m\"\u001b[39m]\n\u001b[0;32m   1619\u001b[0m \u001b[38;5;28mself\u001b[39m\u001b[38;5;241m.\u001b[39mhandles: IOHandles \u001b[38;5;241m|\u001b[39m \u001b[38;5;28;01mNone\u001b[39;00m \u001b[38;5;241m=\u001b[39m \u001b[38;5;28;01mNone\u001b[39;00m\n\u001b[1;32m-> 1620\u001b[0m \u001b[38;5;28mself\u001b[39m\u001b[38;5;241m.\u001b[39m_engine \u001b[38;5;241m=\u001b[39m \u001b[38;5;28;43mself\u001b[39;49m\u001b[38;5;241;43m.\u001b[39;49m\u001b[43m_make_engine\u001b[49m\u001b[43m(\u001b[49m\u001b[43mf\u001b[49m\u001b[43m,\u001b[49m\u001b[43m \u001b[49m\u001b[38;5;28;43mself\u001b[39;49m\u001b[38;5;241;43m.\u001b[39;49m\u001b[43mengine\u001b[49m\u001b[43m)\u001b[49m\n",
      "File \u001b[1;32m~\\AppData\\Local\\Programs\\Python\\Python312\\Lib\\site-packages\\pandas\\io\\parsers\\readers.py:1880\u001b[0m, in \u001b[0;36mTextFileReader._make_engine\u001b[1;34m(self, f, engine)\u001b[0m\n\u001b[0;32m   1878\u001b[0m     \u001b[38;5;28;01mif\u001b[39;00m \u001b[38;5;124m\"\u001b[39m\u001b[38;5;124mb\u001b[39m\u001b[38;5;124m\"\u001b[39m \u001b[38;5;129;01mnot\u001b[39;00m \u001b[38;5;129;01min\u001b[39;00m mode:\n\u001b[0;32m   1879\u001b[0m         mode \u001b[38;5;241m+\u001b[39m\u001b[38;5;241m=\u001b[39m \u001b[38;5;124m\"\u001b[39m\u001b[38;5;124mb\u001b[39m\u001b[38;5;124m\"\u001b[39m\n\u001b[1;32m-> 1880\u001b[0m \u001b[38;5;28mself\u001b[39m\u001b[38;5;241m.\u001b[39mhandles \u001b[38;5;241m=\u001b[39m \u001b[43mget_handle\u001b[49m\u001b[43m(\u001b[49m\n\u001b[0;32m   1881\u001b[0m \u001b[43m    \u001b[49m\u001b[43mf\u001b[49m\u001b[43m,\u001b[49m\n\u001b[0;32m   1882\u001b[0m \u001b[43m    \u001b[49m\u001b[43mmode\u001b[49m\u001b[43m,\u001b[49m\n\u001b[0;32m   1883\u001b[0m \u001b[43m    \u001b[49m\u001b[43mencoding\u001b[49m\u001b[38;5;241;43m=\u001b[39;49m\u001b[38;5;28;43mself\u001b[39;49m\u001b[38;5;241;43m.\u001b[39;49m\u001b[43moptions\u001b[49m\u001b[38;5;241;43m.\u001b[39;49m\u001b[43mget\u001b[49m\u001b[43m(\u001b[49m\u001b[38;5;124;43m\"\u001b[39;49m\u001b[38;5;124;43mencoding\u001b[39;49m\u001b[38;5;124;43m\"\u001b[39;49m\u001b[43m,\u001b[49m\u001b[43m \u001b[49m\u001b[38;5;28;43;01mNone\u001b[39;49;00m\u001b[43m)\u001b[49m\u001b[43m,\u001b[49m\n\u001b[0;32m   1884\u001b[0m \u001b[43m    \u001b[49m\u001b[43mcompression\u001b[49m\u001b[38;5;241;43m=\u001b[39;49m\u001b[38;5;28;43mself\u001b[39;49m\u001b[38;5;241;43m.\u001b[39;49m\u001b[43moptions\u001b[49m\u001b[38;5;241;43m.\u001b[39;49m\u001b[43mget\u001b[49m\u001b[43m(\u001b[49m\u001b[38;5;124;43m\"\u001b[39;49m\u001b[38;5;124;43mcompression\u001b[39;49m\u001b[38;5;124;43m\"\u001b[39;49m\u001b[43m,\u001b[49m\u001b[43m \u001b[49m\u001b[38;5;28;43;01mNone\u001b[39;49;00m\u001b[43m)\u001b[49m\u001b[43m,\u001b[49m\n\u001b[0;32m   1885\u001b[0m \u001b[43m    \u001b[49m\u001b[43mmemory_map\u001b[49m\u001b[38;5;241;43m=\u001b[39;49m\u001b[38;5;28;43mself\u001b[39;49m\u001b[38;5;241;43m.\u001b[39;49m\u001b[43moptions\u001b[49m\u001b[38;5;241;43m.\u001b[39;49m\u001b[43mget\u001b[49m\u001b[43m(\u001b[49m\u001b[38;5;124;43m\"\u001b[39;49m\u001b[38;5;124;43mmemory_map\u001b[39;49m\u001b[38;5;124;43m\"\u001b[39;49m\u001b[43m,\u001b[49m\u001b[43m \u001b[49m\u001b[38;5;28;43;01mFalse\u001b[39;49;00m\u001b[43m)\u001b[49m\u001b[43m,\u001b[49m\n\u001b[0;32m   1886\u001b[0m \u001b[43m    \u001b[49m\u001b[43mis_text\u001b[49m\u001b[38;5;241;43m=\u001b[39;49m\u001b[43mis_text\u001b[49m\u001b[43m,\u001b[49m\n\u001b[0;32m   1887\u001b[0m \u001b[43m    \u001b[49m\u001b[43merrors\u001b[49m\u001b[38;5;241;43m=\u001b[39;49m\u001b[38;5;28;43mself\u001b[39;49m\u001b[38;5;241;43m.\u001b[39;49m\u001b[43moptions\u001b[49m\u001b[38;5;241;43m.\u001b[39;49m\u001b[43mget\u001b[49m\u001b[43m(\u001b[49m\u001b[38;5;124;43m\"\u001b[39;49m\u001b[38;5;124;43mencoding_errors\u001b[39;49m\u001b[38;5;124;43m\"\u001b[39;49m\u001b[43m,\u001b[49m\u001b[43m \u001b[49m\u001b[38;5;124;43m\"\u001b[39;49m\u001b[38;5;124;43mstrict\u001b[39;49m\u001b[38;5;124;43m\"\u001b[39;49m\u001b[43m)\u001b[49m\u001b[43m,\u001b[49m\n\u001b[0;32m   1888\u001b[0m \u001b[43m    \u001b[49m\u001b[43mstorage_options\u001b[49m\u001b[38;5;241;43m=\u001b[39;49m\u001b[38;5;28;43mself\u001b[39;49m\u001b[38;5;241;43m.\u001b[39;49m\u001b[43moptions\u001b[49m\u001b[38;5;241;43m.\u001b[39;49m\u001b[43mget\u001b[49m\u001b[43m(\u001b[49m\u001b[38;5;124;43m\"\u001b[39;49m\u001b[38;5;124;43mstorage_options\u001b[39;49m\u001b[38;5;124;43m\"\u001b[39;49m\u001b[43m,\u001b[49m\u001b[43m \u001b[49m\u001b[38;5;28;43;01mNone\u001b[39;49;00m\u001b[43m)\u001b[49m\u001b[43m,\u001b[49m\n\u001b[0;32m   1889\u001b[0m \u001b[43m\u001b[49m\u001b[43m)\u001b[49m\n\u001b[0;32m   1890\u001b[0m \u001b[38;5;28;01massert\u001b[39;00m \u001b[38;5;28mself\u001b[39m\u001b[38;5;241m.\u001b[39mhandles \u001b[38;5;129;01mis\u001b[39;00m \u001b[38;5;129;01mnot\u001b[39;00m \u001b[38;5;28;01mNone\u001b[39;00m\n\u001b[0;32m   1891\u001b[0m f \u001b[38;5;241m=\u001b[39m \u001b[38;5;28mself\u001b[39m\u001b[38;5;241m.\u001b[39mhandles\u001b[38;5;241m.\u001b[39mhandle\n",
      "File \u001b[1;32m~\\AppData\\Local\\Programs\\Python\\Python312\\Lib\\site-packages\\pandas\\io\\common.py:873\u001b[0m, in \u001b[0;36mget_handle\u001b[1;34m(path_or_buf, mode, encoding, compression, memory_map, is_text, errors, storage_options)\u001b[0m\n\u001b[0;32m    868\u001b[0m \u001b[38;5;28;01melif\u001b[39;00m \u001b[38;5;28misinstance\u001b[39m(handle, \u001b[38;5;28mstr\u001b[39m):\n\u001b[0;32m    869\u001b[0m     \u001b[38;5;66;03m# Check whether the filename is to be opened in binary mode.\u001b[39;00m\n\u001b[0;32m    870\u001b[0m     \u001b[38;5;66;03m# Binary mode does not support 'encoding' and 'newline'.\u001b[39;00m\n\u001b[0;32m    871\u001b[0m     \u001b[38;5;28;01mif\u001b[39;00m ioargs\u001b[38;5;241m.\u001b[39mencoding \u001b[38;5;129;01mand\u001b[39;00m \u001b[38;5;124m\"\u001b[39m\u001b[38;5;124mb\u001b[39m\u001b[38;5;124m\"\u001b[39m \u001b[38;5;129;01mnot\u001b[39;00m \u001b[38;5;129;01min\u001b[39;00m ioargs\u001b[38;5;241m.\u001b[39mmode:\n\u001b[0;32m    872\u001b[0m         \u001b[38;5;66;03m# Encoding\u001b[39;00m\n\u001b[1;32m--> 873\u001b[0m         handle \u001b[38;5;241m=\u001b[39m \u001b[38;5;28;43mopen\u001b[39;49m\u001b[43m(\u001b[49m\n\u001b[0;32m    874\u001b[0m \u001b[43m            \u001b[49m\u001b[43mhandle\u001b[49m\u001b[43m,\u001b[49m\n\u001b[0;32m    875\u001b[0m \u001b[43m            \u001b[49m\u001b[43mioargs\u001b[49m\u001b[38;5;241;43m.\u001b[39;49m\u001b[43mmode\u001b[49m\u001b[43m,\u001b[49m\n\u001b[0;32m    876\u001b[0m \u001b[43m            \u001b[49m\u001b[43mencoding\u001b[49m\u001b[38;5;241;43m=\u001b[39;49m\u001b[43mioargs\u001b[49m\u001b[38;5;241;43m.\u001b[39;49m\u001b[43mencoding\u001b[49m\u001b[43m,\u001b[49m\n\u001b[0;32m    877\u001b[0m \u001b[43m            \u001b[49m\u001b[43merrors\u001b[49m\u001b[38;5;241;43m=\u001b[39;49m\u001b[43merrors\u001b[49m\u001b[43m,\u001b[49m\n\u001b[0;32m    878\u001b[0m \u001b[43m            \u001b[49m\u001b[43mnewline\u001b[49m\u001b[38;5;241;43m=\u001b[39;49m\u001b[38;5;124;43m\"\u001b[39;49m\u001b[38;5;124;43m\"\u001b[39;49m\u001b[43m,\u001b[49m\n\u001b[0;32m    879\u001b[0m \u001b[43m        \u001b[49m\u001b[43m)\u001b[49m\n\u001b[0;32m    880\u001b[0m     \u001b[38;5;28;01melse\u001b[39;00m:\n\u001b[0;32m    881\u001b[0m         \u001b[38;5;66;03m# Binary mode\u001b[39;00m\n\u001b[0;32m    882\u001b[0m         handle \u001b[38;5;241m=\u001b[39m \u001b[38;5;28mopen\u001b[39m(handle, ioargs\u001b[38;5;241m.\u001b[39mmode)\n",
      "\u001b[1;31mFileNotFoundError\u001b[0m: [Errno 2] No such file or directory: 'C:\\\\Users\\\\vaibhav\\\\Downloads\\\\swiggy1 (1).csv'"
     ]
    }
   ],
   "source": [
    "# Import pandas and read csv file\n",
    "import pandas as pd\n",
    "\n",
    "# df  = pd.read_csv('devl mini swiggy.csv')\n",
    "df = pd.read_csv(\"\")\n",
    "df"
   ]
  },
  {
   "cell_type": "code",
   "execution_count": null,
   "id": "572d5a8f-9e98-4768-b470-e6260e2e124b",
   "metadata": {},
   "outputs": [],
   "source": [
    "df.head()"
   ]
  },
  {
   "cell_type": "code",
   "execution_count": null,
   "id": "6a874375-226f-4911-aa2f-0d0bc3b0c4c3",
   "metadata": {},
   "outputs": [],
   "source": [
    "df.tail()"
   ]
  },
  {
   "cell_type": "code",
   "execution_count": null,
   "id": "b5d49b31-7298-4aea-8d43-5f7f7bddaad3",
   "metadata": {},
   "outputs": [],
   "source": [
    "# information about swiggy dataset\n",
    "df.info()"
   ]
  },
  {
   "cell_type": "code",
   "execution_count": null,
   "id": "abfdd866-5467-4dac-bf02-4d8f2cc9df0e",
   "metadata": {},
   "outputs": [],
   "source": [
    "# number of rows and columns\n",
    "df.shape"
   ]
  },
  {
   "cell_type": "markdown",
   "id": "9847f3a8-28b5-4283-90c6-b5b7d7c02a91",
   "metadata": {},
   "source": [
    "## &#10687; DATA CLEANING"
   ]
  },
  {
   "cell_type": "code",
   "execution_count": null,
   "id": "63f1ef5c-100e-42ee-88a8-cab602704574",
   "metadata": {},
   "outputs": [],
   "source": [
    "# droping \"Food Type\" whole column\n",
    "\n",
    "df.drop([\"Food type\"], axis = 1, inplace = True)\n",
    "df"
   ]
  },
  {
   "cell_type": "code",
   "execution_count": null,
   "id": "d78dcb79-c42d-4a1b-808c-08e2cc7f0ddd",
   "metadata": {},
   "outputs": [],
   "source": [
    "# droping \"ID\" whole column\n",
    "\n",
    "df.drop([\"ID\"], axis = 1, inplace = True)\n",
    "df"
   ]
  },
  {
   "cell_type": "code",
   "execution_count": null,
   "id": "e4349f53-6e6c-48f6-bf0a-744fac8352e8",
   "metadata": {},
   "outputs": [],
   "source": [
    "df.info()"
   ]
  },
  {
   "cell_type": "code",
   "execution_count": null,
   "id": "9d55a45b-60d6-4403-ae2a-13b5377976cf",
   "metadata": {},
   "outputs": [],
   "source": [
    "#Printing all columns names present in data set\n",
    "df.columns"
   ]
  },
  {
   "cell_type": "code",
   "execution_count": null,
   "id": "5350639c-06f8-4614-b3e8-ba5eb691900f",
   "metadata": {},
   "outputs": [],
   "source": [
    "# Printing number null values in each column\n",
    "\n",
    "df.isna().sum()"
   ]
  },
  {
   "cell_type": "code",
   "execution_count": null,
   "id": "1405547e-cb1d-4976-adbf-f991723d60fe",
   "metadata": {},
   "outputs": [],
   "source": [
    "# drop null values from \"City\" column\n",
    "df.dropna(subset=[\"City\"], inplace=True)\n",
    "df"
   ]
  },
  {
   "cell_type": "code",
   "execution_count": null,
   "id": "328ab271-1d8b-4f0f-9f60-38daea246cf5",
   "metadata": {},
   "outputs": [],
   "source": [
    "df.isna().sum()"
   ]
  },
  {
   "cell_type": "code",
   "execution_count": null,
   "id": "fb252d43-0740-4078-b5ce-a149d728caca",
   "metadata": {},
   "outputs": [],
   "source": [
    "# drop null values from \"Restaurant\" column\n",
    "df.dropna(subset=[\"Restaurant\"], inplace=True)\n",
    "df"
   ]
  },
  {
   "cell_type": "code",
   "execution_count": null,
   "id": "be83ff92-a7fc-49ac-bed0-bfc66fa8ef39",
   "metadata": {},
   "outputs": [],
   "source": [
    "# Printing number null values in each column\n",
    "\n",
    "df.isna().sum()"
   ]
  },
  {
   "cell_type": "code",
   "execution_count": null,
   "id": "e5e2acd0-622d-4643-bc1e-a3586113f4ca",
   "metadata": {},
   "outputs": [],
   "source": [
    "# Filling null values in \"Price\" column by mean \n",
    "\n",
    "Price_mean = df['Price'].mean()\n",
    "print(Price_mean)\n",
    "\n",
    "df['Price'] = df['Price'].fillna(Price_mean)\n",
    "df"
   ]
  },
  {
   "cell_type": "code",
   "execution_count": null,
   "id": "5b0f999c-73af-4ec6-9f40-21b3e73228e0",
   "metadata": {},
   "outputs": [],
   "source": [
    "df.dropna(subset=[\"Price\"], inplace=True)\n",
    "df"
   ]
  },
  {
   "cell_type": "code",
   "execution_count": null,
   "id": "b292d8f4-0566-4788-827d-2df922119113",
   "metadata": {},
   "outputs": [],
   "source": [
    "# Printing number null values in each column\n",
    "\n",
    "df.isna().sum()"
   ]
  },
  {
   "cell_type": "code",
   "execution_count": null,
   "id": "e0673fa2-2c12-4039-bcc8-93db72447ea1",
   "metadata": {},
   "outputs": [],
   "source": [
    "# Filling null values in \"Avg rating\" column by median \n",
    "\n",
    "Avgrating_median = df['Avg ratings'].median()\n",
    "print(Avgrating_median)\n",
    "\n",
    "df['Avg ratings'] = df['Avg ratings'].fillna(Avgrating_median)\n",
    "df"
   ]
  },
  {
   "cell_type": "code",
   "execution_count": null,
   "id": "5ded9021-720b-4aef-a1f5-5758a61a1a85",
   "metadata": {},
   "outputs": [],
   "source": [
    "# Printing number null values in each column\n",
    "\n",
    "df.isna().sum()"
   ]
  },
  {
   "cell_type": "code",
   "execution_count": null,
   "id": "0f121ece-761e-49a9-829d-7b6089f24dc6",
   "metadata": {},
   "outputs": [],
   "source": [
    "# Filling null values in \"Total rating\" column by mode  \n",
    "\n",
    "Totalrating_mode = df['Total ratings'].mode()[0]\n",
    "print(Totalrating_mode)\n",
    "\n",
    "df['Total ratings'] = df['Total ratings'].fillna(Totalrating_mode)\n",
    "df"
   ]
  },
  {
   "cell_type": "code",
   "execution_count": null,
   "id": "aff22807-2f65-40e5-b19d-ce5e40ba864a",
   "metadata": {},
   "outputs": [],
   "source": [
    "# At end all null values are droped or filled\n",
    "df.isna().sum()\n",
    "# all data is cleared there is no null value"
   ]
  },
  {
   "cell_type": "code",
   "execution_count": null,
   "id": "3f617591-6282-41df-acea-ec4abefb8a1e",
   "metadata": {},
   "outputs": [],
   "source": [
    "df.info()"
   ]
  },
  {
   "cell_type": "code",
   "execution_count": null,
   "id": "46fca516-dda0-4158-b4a7-e3c4f1cd6e01",
   "metadata": {},
   "outputs": [],
   "source": [
    "df.shape"
   ]
  },
  {
   "cell_type": "code",
   "execution_count": null,
   "id": "6c793683-b276-4e11-9f5b-34a2aff268d9",
   "metadata": {},
   "outputs": [],
   "source": [
    "df.describe()"
   ]
  },
  {
   "cell_type": "markdown",
   "id": "19fd993a-e250-4ad1-a566-d20fa242c845",
   "metadata": {},
   "source": [
    "## &#10687; Outlier Detection "
   ]
  },
  {
   "cell_type": "code",
   "execution_count": null,
   "id": "c0fe3891-31c0-4f72-a547-43745841fbb0",
   "metadata": {},
   "outputs": [],
   "source": [
    "# Remove Outlier (IOR) Delivery column\n",
    "# FIND Q1 AND Q3\n",
    "Q1=df['Delivery time'].quantile(0.25)\n",
    "Q3=df['Delivery time'].quantile(0.75)\n",
    "Q1,Q3"
   ]
  },
  {
   "cell_type": "code",
   "execution_count": null,
   "id": "3397e2bc-4266-40e5-b412-8738f7d4faf8",
   "metadata": {},
   "outputs": [],
   "source": [
    "IQR = Q3 - Q1\n",
    "lower_limit = Q1 - (1.5*IQR)\n",
    "upper_limit = Q3 + (1.5*IQR)\n",
    "\n",
    "# outliers in Delivery time {column}\n",
    "\n",
    "outlier_df = df[(df['Delivery time'] < lower_limit) | (df['Delivery time']> upper_limit) ]\n",
    "outlier_df"
   ]
  },
  {
   "cell_type": "code",
   "execution_count": null,
   "id": "ef33c4e6-7664-4b51-b087-8ded2e9397fa",
   "metadata": {},
   "outputs": [],
   "source": [
    "# Data after removing outliers from delivery time {column} \n",
    "df =  df[(df['Delivery time'] >= lower_limit) & (df['Delivery time'] <= upper_limit) ]\n",
    "df"
   ]
  },
  {
   "cell_type": "code",
   "execution_count": null,
   "id": "0f0848ee-1631-40a8-bf41-31d80292724b",
   "metadata": {},
   "outputs": [],
   "source": [
    "df.shape"
   ]
  },
  {
   "cell_type": "code",
   "execution_count": null,
   "id": "a1dc6a63-504e-4d09-8269-3da48f564fa4",
   "metadata": {},
   "outputs": [],
   "source": [
    "# Remove Outlier (IOR) Price column\n",
    "# FIND Q1 AND Q3\n",
    "Q1 = df['Price'].quantile(0.25)\n",
    "Q3 = df['Price'].quantile(0.75)\n",
    "Q1 , Q3"
   ]
  },
  {
   "cell_type": "code",
   "execution_count": null,
   "id": "45ebf953-57e7-4ece-83c5-a836f91806db",
   "metadata": {},
   "outputs": [],
   "source": [
    "IQR = Q3 - Q1\n",
    "lower_limit = Q1 - (1.5*IQR)\n",
    "upper_limit = Q3 + (1.5*IQR)\n",
    "\n",
    "# outliers in Price {column}\n",
    "outlier_df = df[(df['Price'] < lower_limit) | (df['Price']> upper_limit) ]\n",
    "outlier_df"
   ]
  },
  {
   "cell_type": "code",
   "execution_count": null,
   "id": "493130ef-04b8-487d-a6cd-1fec204c93ef",
   "metadata": {},
   "outputs": [],
   "source": [
    "# Data after removing outliers from Price {column} \n",
    "df =  df[(df['Price'] >= lower_limit) & (df['Price'] <= upper_limit) ]\n",
    "df"
   ]
  },
  {
   "cell_type": "code",
   "execution_count": null,
   "id": "59a68663-680f-4d15-b2be-3e9783575d10",
   "metadata": {},
   "outputs": [],
   "source": [
    "df.shape"
   ]
  },
  {
   "cell_type": "code",
   "execution_count": null,
   "id": "8c5c3e2c-24e5-485c-94bb-24b1f6d437f2",
   "metadata": {},
   "outputs": [],
   "source": [
    "numerical_columns = df.select_dtypes(include=['number'])\n",
    "categorical_columns = df.select_dtypes(include=['object', 'category'])\n",
    "numerical_columns,categorical_columns\n",
    "\n"
   ]
  },
  {
   "cell_type": "markdown",
   "id": "2c1200a4-d003-4fd9-ab1a-60ddf5e5f03c",
   "metadata": {},
   "source": [
    "## &#10687; UNIVARIATE GRAPH (USING MATPLOTLIB AND SEABORN)"
   ]
  },
  {
   "cell_type": "code",
   "execution_count": null,
   "id": "9a3fb1e8-1abe-4fc0-8106-7a2a0896d941",
   "metadata": {},
   "outputs": [],
   "source": [
    "# Import matplotlib library and seaborn library\n",
    "# import matplotlib.pyplot as plt\n",
    "# import seaborn as sns\n",
    "# import numpy as np\n",
    "# %matplotlib inline"
   ]
  },
  {
   "cell_type": "code",
   "execution_count": null,
   "id": "0392ed2d-7e68-4b45-9fe7-faabc1458b8b",
   "metadata": {
    "scrolled": true
   },
   "outputs": [],
   "source": [
    "\n",
    "city_counts = df['City'].value_counts()\n",
    "plt.figure(figsize=(10, 6))\n",
    "plt.bar(city_counts.index, city_counts.values, color='skyblue', edgecolor='black')\n",
    "plt.title('Number of Restaurants by City', fontsize=16, fontweight='bold')\n",
    "plt.xlabel('City', fontsize=14)\n",
    "plt.ylabel('Restaurant Count', fontsize=14)\n",
    "plt.xticks(rotation=45)\n",
    "plt.grid(axis='y', linestyle='--', alpha=0.4)\n",
    "plt.show()\n"
   ]
  },
  {
   "cell_type": "code",
   "execution_count": null,
   "id": "f027a5a6-5875-4774-8fbf-37dc9af9b11d",
   "metadata": {},
   "outputs": [],
   "source": [
    "plt.figure(figsize=(10, 6))\n",
    "city_count = df['Avg ratings'].value_counts()\n",
    "city_count.plot(kind='bar',color='orange',alpha=0.5)\n",
    "plt.title(\"Avg rating frequency\",fontsize=16, fontweight='bold')\n",
    "plt.xlabel(\"Avg rating\", fontsize=14)\n",
    "plt.ylabel(\"frequency of avg. rating\", fontsize=14)\n",
    "plt.show()"
   ]
  },
  {
   "cell_type": "code",
   "execution_count": null,
   "id": "8a1ab223",
   "metadata": {},
   "outputs": [],
   "source": [
    "# import pandas as pd\n",
    "# import matplotlib.pyplot as plt\n",
    "# df = pd.read_csv(r\"C:\\Users\\vaibhav\\Downloads\\swiggy1 (1).csv\")\n",
    "\n",
    "plt.figure(figsize=(10, 6))\n",
    "city_count = df['Total ratings'].value_counts()\n",
    "city_count.plot(kind='bar',color='orange',alpha=0.5)\n",
    "plt.title(\"Total ratings frequency\",fontsize=16, fontweight='bold')\n",
    "plt.xlabel(\"Total ratings\", fontsize=14)\n",
    "plt.ylabel(\"frequency of Total ratings\", fontsize=14)\n",
    "plt.show()"
   ]
  },
  {
   "cell_type": "code",
   "execution_count": null,
   "id": "621ecd3a-b938-41e9-9324-0d90c6b213f0",
   "metadata": {},
   "outputs": [],
   "source": [
    "plt.figure(figsize=(10, 6))\n",
    "plt.hist(df['Price'], bins=30, color='blue', alpha=0.3)\n",
    "plt.title('Price Distribution of Restaurants')\n",
    "plt.xlabel('Price')\n",
    "plt.ylabel('Frequency')\n",
    "plt.grid(axis='y')\n",
    "plt.show()"
   ]
  },
  {
   "cell_type": "code",
   "execution_count": null,
   "id": "426a621c",
   "metadata": {},
   "outputs": [],
   "source": [
    "import seaborn as sns\n",
    "plt.figure(figsize=(10, 6))\n",
    "sns.histplot(df['Delivery time'], bins=30, kde=True, color='purple')\n",
    "plt.title('Histogram of Delivery Times')\n",
    "plt.xlabel('Delivery Time (minutes)')\n",
    "plt.ylabel('Frequency')\n",
    "plt.grid(axis='y')\n",
    "plt.show()"
   ]
  },
  {
   "cell_type": "code",
   "execution_count": null,
   "id": "05d7f438-a865-44d1-8215-2b961d02e649",
   "metadata": {},
   "outputs": [],
   "source": [
    "food_type_counts = df['City'].value_counts()\n",
    "food_type_counts.plot(kind='pie', autopct='%1.1f%%')\n",
    "plt.title('Frequency of orders in each city')\n",
    "plt.tight_layout()\n",
    "plt.show()"
   ]
  },
  {
   "cell_type": "code",
   "execution_count": null,
   "id": "12d49914",
   "metadata": {},
   "outputs": [],
   "source": [
    "plt.figure(figsize=(10, 6))\n",
    "sns.displot(df['Price'], kde=True)  # Using displot with KDE\n",
    "plt.show()"
   ]
  },
  {
   "cell_type": "code",
   "execution_count": null,
   "id": "3cd74726",
   "metadata": {},
   "outputs": [],
   "source": [
    "plt.figure(figsize=(10, 6))\n",
    "sns.displot(df['Delivery time'], kde=True)  # Using displot with KDE\n",
    "plt.show()"
   ]
  },
  {
   "cell_type": "code",
   "execution_count": null,
   "id": "ed6382eb",
   "metadata": {},
   "outputs": [],
   "source": [
    "import pandas as pd\n",
    "import matplotlib.pyplot as plt\n",
    "\n",
    "# Load the data from CSV\n",
    "df = pd.read_csv(r\"C:\\Users\\vaibhav\\Downloads\\swiggy1 (1).csv\")\n",
    "\n",
    "# Get counts of each unique value in 'Avg ratings'\n",
    "avg_rating_counts = df['Avg ratings'].value_counts()\n",
    "\n",
    "# Create a scatter plot\n",
    "plt.figure(figsize=(8, 5))\n",
    "plt.scatter(avg_rating_counts.index, avg_rating_counts.values)  # Use the index for x-axis\n",
    "plt.title('Scatter Plot of Average Ratings')\n",
    "plt.xlabel('Average Ratings')\n",
    "plt.ylabel('Counts')\n",
    "plt.grid(True)\n",
    "plt.show()\n"
   ]
  },
  {
   "cell_type": "code",
   "execution_count": null,
   "id": "9fe30339",
   "metadata": {},
   "outputs": [],
   "source": [
    "import pandas as pd\n",
    "import matplotlib.pyplot as plt\n",
    "import seaborn as sns\n",
    "\n",
    "# Load the data from CSV\n",
    "df = pd.read_csv(r\"C:\\Users\\vaibhav\\Downloads\\swiggy1 (1).csv\")\n",
    "data = df.dropna(subset=['Price', 'Delivery time'])\n",
    "\n",
    "plt.figure(figsize=(10, 6))\n",
    "sns.kdeplot(data['Price'], label='Price Distribution', color='blue', fill=True, alpha=0.5)\n",
    "sns.kdeplot(data['Delivery time'], label='Delivery time Distrbution', color='orange', fill=True, alpha=0.5)\n",
    "plt.xlim(0, 1500)\n",
    "plt.title('KDE Plot of Price and Delivery time')\n",
    "plt.xlabel('Price')\n",
    "plt.ylabel('Density')\n",
    "plt.legend()\n",
    "plt.show()"
   ]
  },
  {
   "cell_type": "code",
   "execution_count": null,
   "id": "128e98a3",
   "metadata": {},
   "outputs": [],
   "source": [
    "df = pd.read_csv(r\"C:\\Users\\vaibhav\\Downloads\\swiggy1 (1).csv\")\n",
    "\n",
    "data = df.dropna(subset=['Total ratings','Avg ratings'])\n",
    "\n",
    "\n",
    "\n",
    "plt.figure(figsize=(10, 6))\n",
    "\n",
    "sns.kdeplot(data['Total ratings'], label='Total ratings', color='blue', fill=True, alpha=0.5)\n",
    "\n",
    "\n",
    "plt.xlim(0, 1500)\n",
    "plt.legend()\n",
    "\n",
    "plt.show()"
   ]
  },
  {
   "cell_type": "markdown",
   "id": "ee1d1a82-039a-4645-881f-f258a1dd02ca",
   "metadata": {},
   "source": [
    "## &#10687; BIVARIATE GRAPH (USING MATPLOTLIB AND SEABORN)"
   ]
  },
  {
   "cell_type": "code",
   "execution_count": null,
   "id": "9f66cf4a-e405-45b7-a6ec-6213d8eb3a35",
   "metadata": {},
   "outputs": [],
   "source": []
  },
  {
   "cell_type": "code",
   "execution_count": null,
   "id": "fa9eb647-b9e3-4690-b96c-46a95a7c5167",
   "metadata": {},
   "outputs": [],
   "source": []
  },
  {
   "cell_type": "code",
   "execution_count": null,
   "id": "e826319b-342a-4b99-83e6-b57132ccbd0e",
   "metadata": {},
   "outputs": [],
   "source": []
  },
  {
   "cell_type": "markdown",
   "id": "aa40e77b-32a8-4d14-a12b-c9b011e2a3c0",
   "metadata": {},
   "source": [
    "## &#10687; CORRELATION "
   ]
  },
  {
   "cell_type": "code",
   "execution_count": null,
   "id": "ed12f109-ec3b-4b7f-878e-b11b40bcfa92",
   "metadata": {},
   "outputs": [],
   "source": [
    "corr_matrix = numerical_columns.corr()\n",
    "print(\"Correlation Matrix :\" )\n",
    "print(corr_matrix) \n"
   ]
  },
  {
   "cell_type": "code",
   "execution_count": null,
   "id": "a24dac18-5bee-4068-ae87-cf02b1ba9e20",
   "metadata": {},
   "outputs": [],
   "source": [
    "# Create a pairplot\n",
    "sns.pairplot(df)"
   ]
  },
  {
   "cell_type": "code",
   "execution_count": null,
   "id": "452f701c-7a2f-4ec3-aba2-0127d4b0d765",
   "metadata": {},
   "outputs": [],
   "source": []
  },
  {
   "cell_type": "code",
   "execution_count": null,
   "id": "0b394fec-1e10-4dce-b18f-adeea80952cb",
   "metadata": {},
   "outputs": [],
   "source": []
  }
 ],
 "metadata": {
  "kernelspec": {
   "display_name": "Python 3 (ipykernel)",
   "language": "python",
   "name": "python3"
  },
  "language_info": {
   "codemirror_mode": {
    "name": "ipython",
    "version": 3
   },
   "file_extension": ".py",
   "mimetype": "text/x-python",
   "name": "python",
   "nbconvert_exporter": "python",
   "pygments_lexer": "ipython3",
   "version": "3.12.5"
  }
 },
 "nbformat": 4,
 "nbformat_minor": 5
}
